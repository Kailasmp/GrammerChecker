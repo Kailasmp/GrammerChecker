{
 "cells": [
  {
   "cell_type": "code",
   "execution_count": 3,
   "id": "f29f84db-d3e4-4e38-8b93-1cb2d8fe3eb0",
   "metadata": {},
   "outputs": [
    {
     "name": "stdout",
     "output_type": "stream",
     "text": [
      "Requirement already satisfied: language-tool-python in c:\\users\\kaila\\anaconda3\\lib\\site-packages (2.8.1)Note: you may need to restart the kernel to use updated packages.\n",
      "\n",
      "Requirement already satisfied: pip in c:\\users\\kaila\\anaconda3\\lib\\site-packages (from language-tool-python) (24.0)\n",
      "Requirement already satisfied: requests in c:\\users\\kaila\\anaconda3\\lib\\site-packages (from language-tool-python) (2.32.2)\n",
      "Requirement already satisfied: tqdm in c:\\users\\kaila\\anaconda3\\lib\\site-packages (from language-tool-python) (4.66.4)\n",
      "Requirement already satisfied: wheel in c:\\users\\kaila\\anaconda3\\lib\\site-packages (from language-tool-python) (0.43.0)\n",
      "Requirement already satisfied: charset-normalizer<4,>=2 in c:\\users\\kaila\\anaconda3\\lib\\site-packages (from requests->language-tool-python) (2.0.4)\n",
      "Requirement already satisfied: idna<4,>=2.5 in c:\\users\\kaila\\anaconda3\\lib\\site-packages (from requests->language-tool-python) (3.7)\n",
      "Requirement already satisfied: urllib3<3,>=1.21.1 in c:\\users\\kaila\\anaconda3\\lib\\site-packages (from requests->language-tool-python) (2.2.2)\n",
      "Requirement already satisfied: certifi>=2017.4.17 in c:\\users\\kaila\\anaconda3\\lib\\site-packages (from requests->language-tool-python) (2024.8.30)\n",
      "Requirement already satisfied: colorama in c:\\users\\kaila\\anaconda3\\lib\\site-packages (from tqdm->language-tool-python) (0.4.6)\n"
     ]
    }
   ],
   "source": [
    " pip install language-tool-python"
   ]
  },
  {
   "cell_type": "code",
   "execution_count": 11,
   "id": "1dc9186c-2d56-42b8-834b-3bd4e04fdcff",
   "metadata": {},
   "outputs": [],
   "source": [
    "import tkinter as tk\n",
    "from tkinter import scrolledtext\n",
    "import language_tool_python\n",
    "\n",
    "# Initialize the language tool for English grammar checking\n",
    "tool = language_tool_python.LanguageTool('en-US')\n",
    "\n",
    "def check_grammar():\n",
    "    # Get the text from the input field\n",
    "    text = input_text.get(\"1.0\", tk.END)\n",
    "    # Get the list of matches found in the text\n",
    "    matches = tool.check(text)\n",
    "    \n",
    "    # Clear the result box\n",
    "    result_text.delete(\"1.0\", tk.END)\n",
    "    \n",
    "    if matches:\n",
    "        for match in matches:\n",
    "            result_text.insert(tk.END, f\"Issue: {match.message}\\n\")\n",
    "            result_text.insert(tk.END, f\"Suggested Correction: {match.replacements}\\n\")\n",
    "            result_text.insert(tk.END, f\"Context: {text[match.offset: match.offset + match.errorLength]}\\n\\n\")\n",
    "    else:\n",
    "        result_text.insert(tk.END, \"No grammar issues found!\")\n",
    "\n",
    "# Initialize the main window\n",
    "app = tk.Tk()\n",
    "app.title(\"Grammar Check Tool\")\n",
    "app.geometry(\"500x540\")\n",
    "\n",
    "# Add the input text area\n",
    "tk.Label(app, text=\"Enter Text for Grammar Check:\").pack()\n",
    "input_text = scrolledtext.ScrolledText(app, wrap=tk.WORD, width=50, height=10)\n",
    "input_text.pack(pady=10)\n",
    "\n",
    "# Add the Check Grammar button\n",
    "check_button = tk.Button(app, text=\"Check Grammar\", command=check_grammar)\n",
    "check_button.pack(pady=10)\n",
    "\n",
    "# Add the result text area\n",
    "tk.Label(app, text=\"Grammar Check Results:\").pack()\n",
    "result_text = scrolledtext.ScrolledText(app, wrap=tk.WORD, width=50, height=10, state=\"normal\")\n",
    "result_text.pack(pady=10)\n",
    "\n",
    "# Run the application\n",
    "app.mainloop()\n"
   ]
  },
  {
   "cell_type": "code",
   "execution_count": null,
   "id": "b12764ff-10e4-46a6-a150-c8f9195917cd",
   "metadata": {},
   "outputs": [],
   "source": []
  }
 ],
 "metadata": {
  "kernelspec": {
   "display_name": "Python 3 (ipykernel)",
   "language": "python",
   "name": "python3"
  },
  "language_info": {
   "codemirror_mode": {
    "name": "ipython",
    "version": 3
   },
   "file_extension": ".py",
   "mimetype": "text/x-python",
   "name": "python",
   "nbconvert_exporter": "python",
   "pygments_lexer": "ipython3",
   "version": "3.12.4"
  }
 },
 "nbformat": 4,
 "nbformat_minor": 5
}
